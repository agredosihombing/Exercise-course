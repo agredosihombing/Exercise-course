{
  "metadata": {
    "language_info": {
      "codemirror_mode": {
        "name": "python",
        "version": 3
      },
      "file_extension": ".py",
      "mimetype": "text/x-python",
      "name": "python",
      "nbconvert_exporter": "python",
      "pygments_lexer": "ipython3",
      "version": "3.8"
    },
    "kernelspec": {
      "name": "python",
      "display_name": "Pyolite",
      "language": "python"
    }
  },
  "nbformat_minor": 4,
  "nbformat": 4,
  "cells": [
    {
      "cell_type": "markdown",
      "source": "# Data Science Tools and Ecosystem\n\n### In this notebook, Data Science and Ecosystem are sumarized.\n\n### Some of the popular languages that Data Scientists us are:\n    1. Python\n    2. R\n    3. SQL\n    4. Scala\n    5. Java\n    6. C++\n    7. Julia\n    8. JavaScript\n    9. PHP\n    \n    \n    \n### Some of the commonly used libraries used by Data Scientists include:\n    1. Pandas\n    2. Numpy\n    3. Matplotlib\n    4. Seaborn\n    5. Scikit-learn\n    6. Keras\n    7. TensorFlow\n    8. Apache Spark\n    9. Vegas\n    \n###  Table Data Science\n     | Data Science Tools |\n     | ------------------ |\n     | Anaconda |\n     | Jupyter notebook|\n     | R Studio|\n     | Spyder|\n     | Zeppelin |\n     \n### Below are a few examples of evaluating arithmetic expressions in Python.\n    (2*1)+2\n    4\n\n### This will convert 300 minutes to hours by dividing by 60\n    300//60\n    5\n    \n### Objectives\n    1. add comments to code cells\n    2. create markdown cells\n    3. add ordered and unordered list to markdown cells\n    4. format content of markdown cells with heading styles\n    \n### Author\n    Agredo Mesakh\n    ",
      "metadata": {}
    },
    {
      "cell_type": "markdown",
      "source": "",
      "metadata": {}
    }
  ]
}