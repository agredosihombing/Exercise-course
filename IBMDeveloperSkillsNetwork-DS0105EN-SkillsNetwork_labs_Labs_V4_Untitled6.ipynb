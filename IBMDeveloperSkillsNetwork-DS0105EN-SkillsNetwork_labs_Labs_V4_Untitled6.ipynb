{
  "metadata": {
    "language_info": {
      "codemirror_mode": {
        "name": "python",
        "version": 3
      },
      "file_extension": ".py",
      "mimetype": "text/x-python",
      "name": "python",
      "nbconvert_exporter": "python",
      "pygments_lexer": "ipython3",
      "version": "3.8"
    },
    "kernelspec": {
      "name": "python",
      "display_name": "Pyolite",
      "language": "python"
    }
  },
  "nbformat_minor": 4,
  "nbformat": 4,
  "cells": [
    {
      "cell_type": "markdown",
      "source": "# E2 Assignment Exercise\n\n# E3 This is assignment for creating markdown in new notebook\n\n## E4 ll the languages for data science are \n1. Python\n2. R\n3. SQL\n4. Java\n5. Julia\n6. Scala\n7. C/C++\n8. JavaScript\n9. MATLAB\n10. SAS\n\n### E5 All the data science library are\n1. TensorFlow\n2. NumPy\n3. SciPy\n4. Pandas\n5. Matplotlib\n6. Keras\n7. SciKit-Learn\n8. PyTorch\n\n#### E6 All the table for data science tools are \n| Data Science Tools |\n| -------------------|\n| Tableau |\n| Excel |\n| Tensorflow |\n\n#### E7 Simple arithmatic expression \n| Simple Arithmetic Expression|\n| ----------------------------|\n| 1+1=2 |\n| 2+2=4 |\n| 3-2=1 |\n| 4-1=3 |\n\n#### E8 This code for multiply and add numbers\n| Multiply|\n| --------|\n| a=1 |\n| b=3 |\n| c=a*b |\n| print(c) |\n\n#### E9 This code for convert minutes to hours\n| convert minutes to hours|\n| ------------------------|\n|hours = minutes // 60|\n\n#### E10 List Objectives\n| Objectives |\n| -----------|\n|Obj 1|\n|Obj 2|\n|Obj 3|\n|Obj 4|\n\n## E11 Author Agredo Mesakh\n\n### E12 This Notebook can be access through git",
      "metadata": {}
    },
    {
      "cell_type": "raw",
      "source": "",
      "metadata": {}
    }
  ]
}